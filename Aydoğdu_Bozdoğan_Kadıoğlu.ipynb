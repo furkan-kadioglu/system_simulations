{
 "cells": [
  {
   "cell_type": "code",
   "execution_count": 1,
   "metadata": {},
   "outputs": [],
   "source": [
    "import simpy\n",
    "import random\n",
    "import numpy as np"
   ]
  },
  {
   "cell_type": "code",
   "execution_count": 2,
   "metadata": {},
   "outputs": [],
   "source": [
    "seed = 978\n",
    "random.seed(seed)\n",
    "\n",
    "# Arrival mean                              --EXPONENTIAL\n",
    "interarrival_mean = 6 \n",
    "\n",
    "# Operator 1 mean and std for service time  --LOGNORMAL\n",
    "m = 12 \n",
    "s = 6\n",
    "M = np.log(m**2/np.sqrt(m**2+s**2))\n",
    "S = np.log((m**2+s**2)/m**2)\n",
    "\n",
    "# Operator 2 service time range             --UNIFORM\n",
    "service_range = [1,7]\n",
    "\n",
    "# Voice recognition mean -                  --EXPONENTIAL\n",
    "router_mean = 5"
   ]
  },
  {
   "cell_type": "code",
   "execution_count": 3,
   "metadata": {},
   "outputs": [],
   "source": [
    "def service(env, opr):\n",
    "    if opr==operator1:\n",
    "        yield env.timeout(random.lognormvariate(M,S))\n",
    "    elif opr==operator2:\n",
    "        yield env.timeout(random.uniform(*service_range))"
   ]
  },
  {
   "cell_type": "code",
   "execution_count": 4,
   "metadata": {},
   "outputs": [],
   "source": [
    "class Customer(object):\n",
    "    def __init__(self, name, env):\n",
    "        self.env = env\n",
    "        self.name = name\n",
    "        self.arrival_t = self.env.now\n",
    "        self.action = env.process(self.call())\n",
    "        \n",
    "    \n",
    "    def call(self):\n",
    "        print('%s initiated a call at %g' % (self.name, self.env.now))\n",
    "         \n",
    "        # Voice recognition and routing\n",
    "        yield env.timeout(random.expovariate(1/router_mean))\n",
    "        if random.uniform(0,1) < .3:\n",
    "            self.operator = operator1\n",
    "        else:\n",
    "            self.operator = operator2\n",
    "            \n",
    "        # Voice recognition failure\n",
    "        if random.uniform(0,1) < .1:\n",
    "            print('%s hangs up the call at %g' % (self.name, self.env.now))\n",
    "            return 0 \n",
    "            \n",
    "        with self.operator.request() as req:\n",
    "        \n",
    "            yield req\n",
    "            print('%s is assigned to the operator %d at %g' % (self.name,\n",
    "                                                               (self.operator==operator2)+1,\n",
    "                                                               self.env.now))\n",
    "            \n",
    "            yield self.env.process(service(env,self.operator))\n",
    "            print('%s is done at %g' % (self.name, self.env.now))\n",
    "        "
   ]
  },
  {
   "cell_type": "code",
   "execution_count": 5,
   "metadata": {},
   "outputs": [],
   "source": [
    "def customer_generator(env):\n",
    "\n",
    "    for i in range(10):\n",
    "        yield env.timeout(random.expovariate(1/interarrival_mean))\n",
    "        customer = Customer('Customer %s' %(i+1), env)  "
   ]
  },
  {
   "cell_type": "code",
   "execution_count": 6,
   "metadata": {},
   "outputs": [
    {
     "name": "stdout",
     "output_type": "stream",
     "text": [
      "Customer 1 initiated a call at 26.5136\n",
      "Customer 1 is assigned to the operator 2 at 27.0016\n",
      "Customer 2 initiated a call at 27.5241\n",
      "Customer 1 is done at 30.6156\n",
      "Customer 2 is assigned to the operator 2 at 36.3049\n",
      "Customer 3 initiated a call at 37.4241\n",
      "Customer 2 is done at 37.7309\n",
      "Customer 3 is assigned to the operator 2 at 38.4629\n",
      "Customer 3 is done at 41.6447\n",
      "Customer 4 initiated a call at 49.3434\n",
      "Customer 4 is assigned to the operator 2 at 55.8677\n",
      "Customer 5 initiated a call at 59.6333\n",
      "Customer 4 is done at 61.9611\n",
      "Customer 5 is assigned to the operator 1 at 62.09\n",
      "Customer 6 initiated a call at 71.3114\n",
      "Customer 5 is done at 72.2459\n",
      "Customer 6 is assigned to the operator 2 at 72.3254\n",
      "Customer 6 is done at 73.4519\n",
      "Customer 7 initiated a call at 87.0879\n",
      "Customer 7 is assigned to the operator 2 at 87.6208\n",
      "Customer 8 initiated a call at 91.8304\n",
      "Customer 7 is done at 93.7976\n",
      "Customer 8 is assigned to the operator 2 at 93.7976\n",
      "Customer 8 is done at 99.2522\n",
      "Customer 9 initiated a call at 102.319\n",
      "Customer 9 is assigned to the operator 1 at 104.46\n",
      "Customer 10 initiated a call at 105.255\n",
      "Customer 10 hangs up the call at 106.99\n",
      "Customer 9 is done at 114.055\n"
     ]
    }
   ],
   "source": [
    "env = simpy.Environment()\n",
    "operator1 = simpy.Resource(env, capacity = 1)\n",
    "operator2 = simpy.Resource(env, capacity = 1)\n",
    "env.process(customer_generator(env))\n",
    "env.run() "
   ]
  }
 ],
 "metadata": {
  "kernelspec": {
   "display_name": "Python 3",
   "language": "python",
   "name": "python3"
  },
  "language_info": {
   "codemirror_mode": {
    "name": "ipython",
    "version": 3
   },
   "file_extension": ".py",
   "mimetype": "text/x-python",
   "name": "python",
   "nbconvert_exporter": "python",
   "pygments_lexer": "ipython3",
   "version": "3.7.6"
  }
 },
 "nbformat": 4,
 "nbformat_minor": 4
}
